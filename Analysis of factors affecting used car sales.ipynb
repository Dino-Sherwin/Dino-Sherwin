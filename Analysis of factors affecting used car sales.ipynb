{
 "cells": [
  {
   "cell_type": "markdown",
   "id": "afff6621",
   "metadata": {
    "papermill": {
     "duration": 0.007767,
     "end_time": "2024-07-05T09:23:38.770867",
     "exception": false,
     "start_time": "2024-07-05T09:23:38.763100",
     "status": "completed"
    },
    "tags": []
   },
   "source": [
    "# **Analysis of factors that affect used car prices**"
   ]
  },
  {
   "cell_type": "markdown",
   "id": "cc5af4ba",
   "metadata": {
    "papermill": {
     "duration": 0.007159,
     "end_time": "2024-07-05T09:23:38.785637",
     "exception": false,
     "start_time": "2024-07-05T09:23:38.778478",
     "status": "completed"
    },
    "tags": []
   },
   "source": [
    "# **Imports**"
   ]
  },
  {
   "cell_type": "code",
   "execution_count": 1,
   "id": "2c82dd52",
   "metadata": {
    "execution": {
     "iopub.execute_input": "2024-07-05T09:23:38.802271Z",
     "iopub.status.busy": "2024-07-05T09:23:38.801794Z",
     "iopub.status.idle": "2024-07-05T09:23:41.631810Z",
     "shell.execute_reply": "2024-07-05T09:23:41.630693Z"
    },
    "papermill": {
     "duration": 2.841597,
     "end_time": "2024-07-05T09:23:41.634545",
     "exception": false,
     "start_time": "2024-07-05T09:23:38.792948",
     "status": "completed"
    },
    "tags": []
   },
   "outputs": [],
   "source": [
    "import matplotlib.pyplot as plt\n",
    "import pandas as pd\n",
    "import numpy as np\n",
    "\n",
    "from collections import Counter\n",
    "from IPython.display import display\n",
    "from sklearn.impute import KNNImputer\n",
    "from pylab import rcParams\n",
    "from pathlib import Path"
   ]
  },
  {
   "cell_type": "markdown",
   "id": "83f69410",
   "metadata": {
    "papermill": {
     "duration": 0.00725,
     "end_time": "2024-07-05T09:23:41.649726",
     "exception": false,
     "start_time": "2024-07-05T09:23:41.642476",
     "status": "completed"
    },
    "tags": []
   },
   "source": [
    "# **Data Loading**\n",
    "\n",
    "The uncleaned data is loaded"
   ]
  },
  {
   "cell_type": "code",
   "execution_count": 2,
   "id": "a076d2c2",
   "metadata": {
    "execution": {
     "iopub.execute_input": "2024-07-05T09:23:41.666930Z",
     "iopub.status.busy": "2024-07-05T09:23:41.665784Z",
     "iopub.status.idle": "2024-07-05T09:23:41.670832Z",
     "shell.execute_reply": "2024-07-05T09:23:41.669662Z"
    },
    "papermill": {
     "duration": 0.015972,
     "end_time": "2024-07-05T09:23:41.673057",
     "exception": false,
     "start_time": "2024-07-05T09:23:41.657085",
     "status": "completed"
    },
    "tags": []
   },
   "outputs": [],
   "source": [
    "path='/kaggle/input/uncovering-factors-that-affect-used-car-prices/autos.csv'"
   ]
  },
  {
   "cell_type": "code",
   "execution_count": 3,
   "id": "ca32900a",
   "metadata": {
    "execution": {
     "iopub.execute_input": "2024-07-05T09:23:41.690611Z",
     "iopub.status.busy": "2024-07-05T09:23:41.690229Z",
     "iopub.status.idle": "2024-07-05T09:23:44.878092Z",
     "shell.execute_reply": "2024-07-05T09:23:44.876540Z"
    },
    "papermill": {
     "duration": 3.200179,
     "end_time": "2024-07-05T09:23:44.880780",
     "exception": false,
     "start_time": "2024-07-05T09:23:41.680601",
     "status": "completed"
    },
    "tags": []
   },
   "outputs": [],
   "source": [
    "data = pd.read_csv(path, lineterminator='\\n')"
   ]
  },
  {
   "cell_type": "code",
   "execution_count": 4,
   "id": "7874a4cd",
   "metadata": {
    "execution": {
     "iopub.execute_input": "2024-07-05T09:23:44.897760Z",
     "iopub.status.busy": "2024-07-05T09:23:44.897352Z",
     "iopub.status.idle": "2024-07-05T09:23:45.154348Z",
     "shell.execute_reply": "2024-07-05T09:23:45.153098Z"
    },
    "papermill": {
     "duration": 0.268976,
     "end_time": "2024-07-05T09:23:45.157316",
     "exception": false,
     "start_time": "2024-07-05T09:23:44.888340",
     "status": "completed"
    },
    "tags": []
   },
   "outputs": [
    {
     "name": "stdout",
     "output_type": "stream",
     "text": [
      "<class 'pandas.core.frame.DataFrame'>\n",
      "RangeIndex: 371528 entries, 0 to 371527\n",
      "Data columns (total 21 columns):\n",
      " #   Column               Non-Null Count   Dtype \n",
      "---  ------               --------------   ----- \n",
      " 0   index                371528 non-null  int64 \n",
      " 1   dateCrawled          371528 non-null  object\n",
      " 2   name                 371528 non-null  object\n",
      " 3   seller               371528 non-null  object\n",
      " 4   offerType            371528 non-null  object\n",
      " 5   price                371528 non-null  int64 \n",
      " 6   abtest               371528 non-null  object\n",
      " 7   vehicleType          333659 non-null  object\n",
      " 8   yearOfRegistration   371528 non-null  int64 \n",
      " 9   gearbox              351319 non-null  object\n",
      " 10  powerPS              371528 non-null  int64 \n",
      " 11  model                351044 non-null  object\n",
      " 12  kilometer            371528 non-null  int64 \n",
      " 13  monthOfRegistration  371528 non-null  int64 \n",
      " 14  fuelType             338142 non-null  object\n",
      " 15  brand                371528 non-null  object\n",
      " 16  notRepairedDamage    299468 non-null  object\n",
      " 17  dateCreated          371528 non-null  object\n",
      " 18  nrOfPictures         371528 non-null  int64 \n",
      " 19  postalCode           371528 non-null  int64 \n",
      " 20  lastSeen             371528 non-null  object\n",
      "dtypes: int64(8), object(13)\n",
      "memory usage: 59.5+ MB\n"
     ]
    }
   ],
   "source": [
    "data.info()"
   ]
  },
  {
   "cell_type": "code",
   "execution_count": 5,
   "id": "520c99e8",
   "metadata": {
    "execution": {
     "iopub.execute_input": "2024-07-05T09:23:45.174191Z",
     "iopub.status.busy": "2024-07-05T09:23:45.173593Z",
     "iopub.status.idle": "2024-07-05T09:23:45.205226Z",
     "shell.execute_reply": "2024-07-05T09:23:45.204096Z"
    },
    "papermill": {
     "duration": 0.042856,
     "end_time": "2024-07-05T09:23:45.207745",
     "exception": false,
     "start_time": "2024-07-05T09:23:45.164889",
     "status": "completed"
    },
    "tags": []
   },
   "outputs": [
    {
     "data": {
      "text/html": [
       "<div>\n",
       "<style scoped>\n",
       "    .dataframe tbody tr th:only-of-type {\n",
       "        vertical-align: middle;\n",
       "    }\n",
       "\n",
       "    .dataframe tbody tr th {\n",
       "        vertical-align: top;\n",
       "    }\n",
       "\n",
       "    .dataframe thead th {\n",
       "        text-align: right;\n",
       "    }\n",
       "</style>\n",
       "<table border=\"1\" class=\"dataframe\">\n",
       "  <thead>\n",
       "    <tr style=\"text-align: right;\">\n",
       "      <th></th>\n",
       "      <th>index</th>\n",
       "      <th>dateCrawled</th>\n",
       "      <th>name</th>\n",
       "      <th>seller</th>\n",
       "      <th>offerType</th>\n",
       "      <th>price</th>\n",
       "      <th>abtest</th>\n",
       "      <th>vehicleType</th>\n",
       "      <th>yearOfRegistration</th>\n",
       "      <th>gearbox</th>\n",
       "      <th>...</th>\n",
       "      <th>model</th>\n",
       "      <th>kilometer</th>\n",
       "      <th>monthOfRegistration</th>\n",
       "      <th>fuelType</th>\n",
       "      <th>brand</th>\n",
       "      <th>notRepairedDamage</th>\n",
       "      <th>dateCreated</th>\n",
       "      <th>nrOfPictures</th>\n",
       "      <th>postalCode</th>\n",
       "      <th>lastSeen</th>\n",
       "    </tr>\n",
       "  </thead>\n",
       "  <tbody>\n",
       "    <tr>\n",
       "      <th>0</th>\n",
       "      <td>0</td>\n",
       "      <td>2016-03-24 11:52:17</td>\n",
       "      <td>Golf_3_1.6</td>\n",
       "      <td>privat</td>\n",
       "      <td>Angebot</td>\n",
       "      <td>480</td>\n",
       "      <td>test</td>\n",
       "      <td>NaN</td>\n",
       "      <td>1993</td>\n",
       "      <td>manuell</td>\n",
       "      <td>...</td>\n",
       "      <td>golf</td>\n",
       "      <td>150000</td>\n",
       "      <td>0</td>\n",
       "      <td>benzin</td>\n",
       "      <td>volkswagen</td>\n",
       "      <td>NaN</td>\n",
       "      <td>2016-03-24 00:00:00</td>\n",
       "      <td>0</td>\n",
       "      <td>70435</td>\n",
       "      <td>2016-04-07 03:16:57</td>\n",
       "    </tr>\n",
       "    <tr>\n",
       "      <th>1</th>\n",
       "      <td>1</td>\n",
       "      <td>2016-03-24 10:58:45</td>\n",
       "      <td>A5_Sportback_2.7_Tdi</td>\n",
       "      <td>privat</td>\n",
       "      <td>Angebot</td>\n",
       "      <td>18300</td>\n",
       "      <td>test</td>\n",
       "      <td>coupe</td>\n",
       "      <td>2011</td>\n",
       "      <td>manuell</td>\n",
       "      <td>...</td>\n",
       "      <td>NaN</td>\n",
       "      <td>125000</td>\n",
       "      <td>5</td>\n",
       "      <td>diesel</td>\n",
       "      <td>audi</td>\n",
       "      <td>ja</td>\n",
       "      <td>2016-03-24 00:00:00</td>\n",
       "      <td>0</td>\n",
       "      <td>66954</td>\n",
       "      <td>2016-04-07 01:46:50</td>\n",
       "    </tr>\n",
       "    <tr>\n",
       "      <th>2</th>\n",
       "      <td>2</td>\n",
       "      <td>2016-03-14 12:52:21</td>\n",
       "      <td>Jeep_Grand_Cherokee_\"Overland\"</td>\n",
       "      <td>privat</td>\n",
       "      <td>Angebot</td>\n",
       "      <td>9800</td>\n",
       "      <td>test</td>\n",
       "      <td>suv</td>\n",
       "      <td>2004</td>\n",
       "      <td>automatik</td>\n",
       "      <td>...</td>\n",
       "      <td>grand</td>\n",
       "      <td>125000</td>\n",
       "      <td>8</td>\n",
       "      <td>diesel</td>\n",
       "      <td>jeep</td>\n",
       "      <td>NaN</td>\n",
       "      <td>2016-03-14 00:00:00</td>\n",
       "      <td>0</td>\n",
       "      <td>90480</td>\n",
       "      <td>2016-04-05 12:47:46</td>\n",
       "    </tr>\n",
       "    <tr>\n",
       "      <th>3</th>\n",
       "      <td>3</td>\n",
       "      <td>2016-03-17 16:54:04</td>\n",
       "      <td>GOLF_4_1_4__3TÜRER</td>\n",
       "      <td>privat</td>\n",
       "      <td>Angebot</td>\n",
       "      <td>1500</td>\n",
       "      <td>test</td>\n",
       "      <td>kleinwagen</td>\n",
       "      <td>2001</td>\n",
       "      <td>manuell</td>\n",
       "      <td>...</td>\n",
       "      <td>golf</td>\n",
       "      <td>150000</td>\n",
       "      <td>6</td>\n",
       "      <td>benzin</td>\n",
       "      <td>volkswagen</td>\n",
       "      <td>nein</td>\n",
       "      <td>2016-03-17 00:00:00</td>\n",
       "      <td>0</td>\n",
       "      <td>91074</td>\n",
       "      <td>2016-03-17 17:40:17</td>\n",
       "    </tr>\n",
       "    <tr>\n",
       "      <th>4</th>\n",
       "      <td>4</td>\n",
       "      <td>2016-03-31 17:25:20</td>\n",
       "      <td>Skoda_Fabia_1.4_TDI_PD_Classic</td>\n",
       "      <td>privat</td>\n",
       "      <td>Angebot</td>\n",
       "      <td>3600</td>\n",
       "      <td>test</td>\n",
       "      <td>kleinwagen</td>\n",
       "      <td>2008</td>\n",
       "      <td>manuell</td>\n",
       "      <td>...</td>\n",
       "      <td>fabia</td>\n",
       "      <td>90000</td>\n",
       "      <td>7</td>\n",
       "      <td>diesel</td>\n",
       "      <td>skoda</td>\n",
       "      <td>nein</td>\n",
       "      <td>2016-03-31 00:00:00</td>\n",
       "      <td>0</td>\n",
       "      <td>60437</td>\n",
       "      <td>2016-04-06 10:17:21</td>\n",
       "    </tr>\n",
       "  </tbody>\n",
       "</table>\n",
       "<p>5 rows × 21 columns</p>\n",
       "</div>"
      ],
      "text/plain": [
       "   index          dateCrawled                            name  seller  \\\n",
       "0      0  2016-03-24 11:52:17                      Golf_3_1.6  privat   \n",
       "1      1  2016-03-24 10:58:45            A5_Sportback_2.7_Tdi  privat   \n",
       "2      2  2016-03-14 12:52:21  Jeep_Grand_Cherokee_\"Overland\"  privat   \n",
       "3      3  2016-03-17 16:54:04              GOLF_4_1_4__3TÜRER  privat   \n",
       "4      4  2016-03-31 17:25:20  Skoda_Fabia_1.4_TDI_PD_Classic  privat   \n",
       "\n",
       "  offerType  price abtest vehicleType  yearOfRegistration    gearbox  ...  \\\n",
       "0   Angebot    480   test         NaN                1993    manuell  ...   \n",
       "1   Angebot  18300   test       coupe                2011    manuell  ...   \n",
       "2   Angebot   9800   test         suv                2004  automatik  ...   \n",
       "3   Angebot   1500   test  kleinwagen                2001    manuell  ...   \n",
       "4   Angebot   3600   test  kleinwagen                2008    manuell  ...   \n",
       "\n",
       "   model kilometer  monthOfRegistration  fuelType       brand  \\\n",
       "0   golf    150000                    0    benzin  volkswagen   \n",
       "1    NaN    125000                    5    diesel        audi   \n",
       "2  grand    125000                    8    diesel        jeep   \n",
       "3   golf    150000                    6    benzin  volkswagen   \n",
       "4  fabia     90000                    7    diesel       skoda   \n",
       "\n",
       "  notRepairedDamage          dateCreated nrOfPictures  postalCode  \\\n",
       "0               NaN  2016-03-24 00:00:00            0       70435   \n",
       "1                ja  2016-03-24 00:00:00            0       66954   \n",
       "2               NaN  2016-03-14 00:00:00            0       90480   \n",
       "3              nein  2016-03-17 00:00:00            0       91074   \n",
       "4              nein  2016-03-31 00:00:00            0       60437   \n",
       "\n",
       "              lastSeen  \n",
       "0  2016-04-07 03:16:57  \n",
       "1  2016-04-07 01:46:50  \n",
       "2  2016-04-05 12:47:46  \n",
       "3  2016-03-17 17:40:17  \n",
       "4  2016-04-06 10:17:21  \n",
       "\n",
       "[5 rows x 21 columns]"
      ]
     },
     "execution_count": 5,
     "metadata": {},
     "output_type": "execute_result"
    }
   ],
   "source": [
    "data.head()"
   ]
  },
  {
   "cell_type": "markdown",
   "id": "490ce746",
   "metadata": {
    "papermill": {
     "duration": 0.007557,
     "end_time": "2024-07-05T09:23:45.223172",
     "exception": false,
     "start_time": "2024-07-05T09:23:45.215615",
     "status": "completed"
    },
    "tags": []
   },
   "source": [
    "# **Cleaned Data Loading**"
   ]
  },
  {
   "cell_type": "code",
   "execution_count": 6,
   "id": "7c8b9e27",
   "metadata": {
    "execution": {
     "iopub.execute_input": "2024-07-05T09:23:45.240965Z",
     "iopub.status.busy": "2024-07-05T09:23:45.240591Z",
     "iopub.status.idle": "2024-07-05T09:23:45.245418Z",
     "shell.execute_reply": "2024-07-05T09:23:45.244288Z"
    },
    "papermill": {
     "duration": 0.016402,
     "end_time": "2024-07-05T09:23:45.247675",
     "exception": false,
     "start_time": "2024-07-05T09:23:45.231273",
     "status": "completed"
    },
    "tags": []
   },
   "outputs": [],
   "source": [
    "path='/kaggle/input/factors/autos.csv'"
   ]
  },
  {
   "cell_type": "code",
   "execution_count": 7,
   "id": "2aaf83a1",
   "metadata": {
    "execution": {
     "iopub.execute_input": "2024-07-05T09:23:45.265927Z",
     "iopub.status.busy": "2024-07-05T09:23:45.265515Z",
     "iopub.status.idle": "2024-07-05T09:23:46.915110Z",
     "shell.execute_reply": "2024-07-05T09:23:46.913760Z"
    },
    "papermill": {
     "duration": 1.66233,
     "end_time": "2024-07-05T09:23:46.917941",
     "exception": false,
     "start_time": "2024-07-05T09:23:45.255611",
     "status": "completed"
    },
    "tags": []
   },
   "outputs": [],
   "source": [
    "data = pd.read_csv(path, lineterminator='\\n')"
   ]
  },
  {
   "cell_type": "code",
   "execution_count": 8,
   "id": "0577e41d",
   "metadata": {
    "execution": {
     "iopub.execute_input": "2024-07-05T09:23:46.936921Z",
     "iopub.status.busy": "2024-07-05T09:23:46.936538Z",
     "iopub.status.idle": "2024-07-05T09:23:47.097307Z",
     "shell.execute_reply": "2024-07-05T09:23:47.095730Z"
    },
    "papermill": {
     "duration": 0.173209,
     "end_time": "2024-07-05T09:23:47.100068",
     "exception": false,
     "start_time": "2024-07-05T09:23:46.926859",
     "status": "completed"
    },
    "tags": []
   },
   "outputs": [
    {
     "name": "stdout",
     "output_type": "stream",
     "text": [
      "<class 'pandas.core.frame.DataFrame'>\n",
      "RangeIndex: 244083 entries, 0 to 244082\n",
      "Data columns (total 20 columns):\n",
      " #   Column               Non-Null Count   Dtype \n",
      "---  ------               --------------   ----- \n",
      " 0   index                244083 non-null  int64 \n",
      " 1   dateCrawled          244083 non-null  object\n",
      " 2   name                 244083 non-null  object\n",
      " 3   seller               244083 non-null  object\n",
      " 4   offerType            244083 non-null  object\n",
      " 5   price                244083 non-null  int64 \n",
      " 6   abtest               244083 non-null  object\n",
      " 7   vehicleType          244083 non-null  object\n",
      " 8   yearOfRegistration   244083 non-null  int64 \n",
      " 9   gearbox              244083 non-null  object\n",
      " 10  powerPS              244083 non-null  int64 \n",
      " 11  model                244083 non-null  object\n",
      " 12  kilometer            244083 non-null  int64 \n",
      " 13  monthOfRegistration  244083 non-null  int64 \n",
      " 14  fuelType             244083 non-null  object\n",
      " 15  brand                244083 non-null  object\n",
      " 16  notRepairedDamage    244083 non-null  object\n",
      " 17  dateCreated          244083 non-null  object\n",
      " 18  postalCode           244083 non-null  int64 \n",
      "            244083 non-null  object\n",
      "dtypes: int64(7), object(13)\n",
      "memory usage: 37.2+ MB\n"
     ]
    }
   ],
   "source": [
    "data.info()"
   ]
  },
  {
   "cell_type": "markdown",
   "id": "59e02a9e",
   "metadata": {
    "papermill": {
     "duration": 0.007562,
     "end_time": "2024-07-05T09:23:47.115934",
     "exception": false,
     "start_time": "2024-07-05T09:23:47.108372",
     "status": "completed"
    },
    "tags": []
   },
   "source": [
    "The cleaned data gives an idea of how many cells contained null values."
   ]
  },
  {
   "cell_type": "code",
   "execution_count": 9,
   "id": "d3356dfa",
   "metadata": {
    "execution": {
     "iopub.execute_input": "2024-07-05T09:23:47.134043Z",
     "iopub.status.busy": "2024-07-05T09:23:47.133638Z",
     "iopub.status.idle": "2024-07-05T09:23:47.154675Z",
     "shell.execute_reply": "2024-07-05T09:23:47.153513Z"
    },
    "papermill": {
     "duration": 0.033259,
     "end_time": "2024-07-05T09:23:47.157081",
     "exception": false,
     "start_time": "2024-07-05T09:23:47.123822",
     "status": "completed"
    },
    "tags": []
   },
   "outputs": [
    {
     "data": {
      "text/html": [
       "<div>\n",
       "<style scoped>\n",
       "    .dataframe tbody tr th:only-of-type {\n",
       "        vertical-align: middle;\n",
       "    }\n",
       "\n",
       "    .dataframe tbody tr th {\n",
       "        vertical-align: top;\n",
       "    }\n",
       "\n",
       "    .dataframe thead th {\n",
       "        text-align: right;\n",
       "    }\n",
       "</style>\n",
       "<table border=\"1\" class=\"dataframe\">\n",
       "  <thead>\n",
       "    <tr style=\"text-align: right;\">\n",
       "      <th></th>\n",
       "      <th>index</th>\n",
       "      <th>dateCrawled</th>\n",
       "      <th>name</th>\n",
       "      <th>seller</th>\n",
       "      <th>offerType</th>\n",
       "      <th>price</th>\n",
       "      <th>abtest</th>\n",
       "      <th>vehicleType</th>\n",
       "      <th>yearOfRegistration</th>\n",
       "      <th>gearbox</th>\n",
       "      <th>powerPS</th>\n",
       "      <th>model</th>\n",
       "      <th>kilometer</th>\n",
       "      <th>monthOfRegistration</th>\n",
       "      <th>fuelType</th>\n",
       "      <th>brand</th>\n",
       "      <th>notRepairedDamage</th>\n",
       "      <th>dateCreated</th>\n",
       "      <th>postalCode</th>\n",
       "      <th>lastSeen\\r</th>\n",
       "    </tr>\n",
       "  </thead>\n",
       "  <tbody>\n",
       "    <tr>\n",
       "      <th>0</th>\n",
       "      <td>1</td>\n",
       "      <td>17-03-2016 16:54</td>\n",
       "      <td>GOLF_4_1_4__3TÜRER</td>\n",
       "      <td>Private</td>\n",
       "      <td>Offer</td>\n",
       "      <td>1500</td>\n",
       "      <td>test</td>\n",
       "      <td>Hatchback</td>\n",
       "      <td>2001</td>\n",
       "      <td>Manual</td>\n",
       "      <td>75</td>\n",
       "      <td>golf</td>\n",
       "      <td>150000</td>\n",
       "      <td>6</td>\n",
       "      <td>Petrol</td>\n",
       "      <td>volkswagen</td>\n",
       "      <td>No</td>\n",
       "      <td>17-03-2016 00:00</td>\n",
       "      <td>91074</td>\n",
       "      <td>17-03-2016 17:40\\r</td>\n",
       "    </tr>\n",
       "    <tr>\n",
       "      <th>1</th>\n",
       "      <td>2</td>\n",
       "      <td>31-03-2016 17:25</td>\n",
       "      <td>Skoda_Fabia_1.4_TDI_PD_Classic</td>\n",
       "      <td>Private</td>\n",
       "      <td>Offer</td>\n",
       "      <td>3600</td>\n",
       "      <td>test</td>\n",
       "      <td>Hatchback</td>\n",
       "      <td>2008</td>\n",
       "      <td>Manual</td>\n",
       "      <td>69</td>\n",
       "      <td>fabia</td>\n",
       "      <td>90000</td>\n",
       "      <td>7</td>\n",
       "      <td>Diesel</td>\n",
       "      <td>skoda</td>\n",
       "      <td>No</td>\n",
       "      <td>31-03-2016 00:00</td>\n",
       "      <td>60437</td>\n",
       "      <td>06-04-2016 10:17\\r</td>\n",
       "    </tr>\n",
       "    <tr>\n",
       "      <th>2</th>\n",
       "      <td>5</td>\n",
       "      <td>04-04-2016 17:36</td>\n",
       "      <td>BMW_316i___e36_Limousine___Bastlerfahrzeug__Ex...</td>\n",
       "      <td>Private</td>\n",
       "      <td>Offer</td>\n",
       "      <td>650</td>\n",
       "      <td>test</td>\n",
       "      <td>limousine</td>\n",
       "      <td>1995</td>\n",
       "      <td>Manual</td>\n",
       "      <td>102</td>\n",
       "      <td>3er</td>\n",
       "      <td>150000</td>\n",
       "      <td>10</td>\n",
       "      <td>Petrol</td>\n",
       "      <td>bmw</td>\n",
       "      <td>Yes</td>\n",
       "      <td>04-04-2016 00:00</td>\n",
       "      <td>33775</td>\n",
       "      <td>06-04-2016 19:17\\r</td>\n",
       "    </tr>\n",
       "    <tr>\n",
       "      <th>3</th>\n",
       "      <td>6</td>\n",
       "      <td>01-04-2016 20:48</td>\n",
       "      <td>Peugeot_206_CC_110_Platinum</td>\n",
       "      <td>Private</td>\n",
       "      <td>Offer</td>\n",
       "      <td>2200</td>\n",
       "      <td>test</td>\n",
       "      <td>Convertible</td>\n",
       "      <td>2004</td>\n",
       "      <td>Manual</td>\n",
       "      <td>109</td>\n",
       "      <td>2_reihe</td>\n",
       "      <td>150000</td>\n",
       "      <td>8</td>\n",
       "      <td>Petrol</td>\n",
       "      <td>peugeot</td>\n",
       "      <td>No</td>\n",
       "      <td>01-04-2016 00:00</td>\n",
       "      <td>67112</td>\n",
       "      <td>05-04-2016 18:18\\r</td>\n",
       "    </tr>\n",
       "    <tr>\n",
       "      <th>4</th>\n",
       "      <td>10</td>\n",
       "      <td>26-03-2016 19:54</td>\n",
       "      <td>Mazda_3_1.6_Sport</td>\n",
       "      <td>Private</td>\n",
       "      <td>Offer</td>\n",
       "      <td>2000</td>\n",
       "      <td>control</td>\n",
       "      <td>limousine</td>\n",
       "      <td>2004</td>\n",
       "      <td>Manual</td>\n",
       "      <td>105</td>\n",
       "      <td>3_reihe</td>\n",
       "      <td>150000</td>\n",
       "      <td>12</td>\n",
       "      <td>Petrol</td>\n",
       "      <td>mazda</td>\n",
       "      <td>No</td>\n",
       "      <td>26-03-2016 00:00</td>\n",
       "      <td>96224</td>\n",
       "      <td>06-04-2016 10:45\\r</td>\n",
       "    </tr>\n",
       "  </tbody>\n",
       "</table>\n",
       "</div>"
      ],
      "text/plain": [
       "   index       dateCrawled                                               name  \\\n",
       "0      1  17-03-2016 16:54                                 GOLF_4_1_4__3TÜRER   \n",
       "1      2  31-03-2016 17:25                     Skoda_Fabia_1.4_TDI_PD_Classic   \n",
       "2      5  04-04-2016 17:36  BMW_316i___e36_Limousine___Bastlerfahrzeug__Ex...   \n",
       "3      6  01-04-2016 20:48                        Peugeot_206_CC_110_Platinum   \n",
       "4     10  26-03-2016 19:54                                  Mazda_3_1.6_Sport   \n",
       "\n",
       "    seller offerType  price   abtest  vehicleType  yearOfRegistration gearbox  \\\n",
       "0  Private     Offer   1500     test    Hatchback                2001  Manual   \n",
       "1  Private     Offer   3600     test    Hatchback                2008  Manual   \n",
       "2  Private     Offer    650     test    limousine                1995  Manual   \n",
       "3  Private     Offer   2200     test  Convertible                2004  Manual   \n",
       "4  Private     Offer   2000  control    limousine                2004  Manual   \n",
       "\n",
       "   powerPS    model  kilometer  monthOfRegistration fuelType       brand  \\\n",
       "0       75     golf     150000                    6   Petrol  volkswagen   \n",
       "1       69    fabia      90000                    7   Diesel       skoda   \n",
       "2      102      3er     150000                   10   Petrol         bmw   \n",
       "3      109  2_reihe     150000                    8   Petrol     peugeot   \n",
       "4      105  3_reihe     150000                   12   Petrol       mazda   \n",
       "\n",
       "  notRepairedDamage       dateCreated  postalCode          lastSeen\\r  \n",
       "0                No  17-03-2016 00:00       91074  17-03-2016 17:40\\r  \n",
       "1                No  31-03-2016 00:00       60437  06-04-2016 10:17\\r  \n",
       "2               Yes  04-04-2016 00:00       33775  06-04-2016 19:17\\r  \n",
       "3                No  01-04-2016 00:00       67112  05-04-2016 18:18\\r  \n",
       "4                No  26-03-2016 00:00       96224  06-04-2016 10:45\\r  "
      ]
     },
     "execution_count": 9,
     "metadata": {},
     "output_type": "execute_result"
    }
   ],
   "source": [
    "data.head()"
   ]
  },
  {
   "cell_type": "markdown",
   "id": "b5f6d27b",
   "metadata": {
    "papermill": {
     "duration": 0.007931,
     "end_time": "2024-07-05T09:23:47.173305",
     "exception": false,
     "start_time": "2024-07-05T09:23:47.165374",
     "status": "completed"
    },
    "tags": []
   },
   "source": [
    "The cleaned data includes removing rows with null values , replacing German terms with English and adjusting the placements of the remaining rows. "
   ]
  },
  {
   "cell_type": "markdown",
   "id": "766feaa1",
   "metadata": {
    "papermill": {
     "duration": 0.008332,
     "end_time": "2024-07-05T09:23:47.189888",
     "exception": false,
     "start_time": "2024-07-05T09:23:47.181556",
     "status": "completed"
    },
    "tags": []
   },
   "source": [
    "# Exploratory Data Analysis"
   ]
  },
  {
   "cell_type": "markdown",
   "id": "1e53b99b",
   "metadata": {
    "papermill": {
     "duration": 0.008201,
     "end_time": "2024-07-05T09:23:47.206803",
     "exception": false,
     "start_time": "2024-07-05T09:23:47.198602",
     "status": "completed"
    },
    "tags": []
   },
   "source": [
    "**Numeric features**"
   ]
  },
  {
   "cell_type": "markdown",
   "id": "6c62d269",
   "metadata": {
    "papermill": {
     "duration": 0.007967,
     "end_time": "2024-07-05T09:23:47.223000",
     "exception": false,
     "start_time": "2024-07-05T09:23:47.215033",
     "status": "completed"
    },
    "tags": []
   },
   "source": [
    "The numeric features of the dataset analysed visually."
   ]
  },
  {
   "cell_type": "markdown",
   "id": "9e637f87",
   "metadata": {
    "papermill": {
     "duration": 0.007994,
     "end_time": "2024-07-05T09:23:47.239472",
     "exception": false,
     "start_time": "2024-07-05T09:23:47.231478",
     "status": "completed"
    },
    "tags": []
   },
   "source": [
    "**Check for missing values**"
   ]
  },
  {
   "cell_type": "code",
   "execution_count": 10,
   "id": "27bc84da",
   "metadata": {
    "execution": {
     "iopub.execute_input": "2024-07-05T09:23:47.257734Z",
     "iopub.status.busy": "2024-07-05T09:23:47.257355Z",
     "iopub.status.idle": "2024-07-05T09:23:47.411465Z",
     "shell.execute_reply": "2024-07-05T09:23:47.409888Z"
    },
    "papermill": {
     "duration": 0.166262,
     "end_time": "2024-07-05T09:23:47.414003",
     "exception": false,
     "start_time": "2024-07-05T09:23:47.247741",
     "status": "completed"
    },
    "tags": []
   },
   "outputs": [
    {
     "name": "stdout",
     "output_type": "stream",
     "text": [
      "index                  0\n",
      "dateCrawled            0\n",
      "name                   0\n",
      "seller                 0\n",
      "offerType              0\n",
      "price                  0\n",
      "abtest                 0\n",
      "vehicleType            0\n",
      "yearOfRegistration     0\n",
      "gearbox                0\n",
      "powerPS                0\n",
      "model                  0\n",
      "kilometer              0\n",
      "monthOfRegistration    0\n",
      "fuelType               0\n",
      "brand                  0\n",
      "notRepairedDamage      0\n",
      "dateCreated            0\n",
      "postalCode             0\n",
      "lastSeen\\r             0\n",
      "dtype: int64\n"
     ]
    }
   ],
   "source": [
    "# Check for missing values\n",
    "missing_values = data.isnull().sum()\n",
    "print(missing_values)"
   ]
  },
  {
   "cell_type": "markdown",
   "id": "67ec2291",
   "metadata": {
    "papermill": {
     "duration": 0.008103,
     "end_time": "2024-07-05T09:23:47.430595",
     "exception": false,
     "start_time": "2024-07-05T09:23:47.422492",
     "status": "completed"
    },
    "tags": []
   },
   "source": [
    "**Price with respect to distribution**"
   ]
  },
  {
   "cell_type": "code",
   "execution_count": 11,
   "id": "ec6085c4",
   "metadata": {
    "execution": {
     "iopub.execute_input": "2024-07-05T09:23:47.449766Z",
     "iopub.status.busy": "2024-07-05T09:23:47.448821Z",
     "iopub.status.idle": "2024-07-05T09:23:48.616248Z",
     "shell.execute_reply": "2024-07-05T09:23:48.614688Z"
    },
    "papermill": {
     "duration": 1.18002,
     "end_time": "2024-07-05T09:23:48.619074",
     "exception": false,
     "start_time": "2024-07-05T09:23:47.439054",
     "status": "completed"
    },
    "tags": []
   },
   "outputs": [
    {
     "data": {
      "image/png": "[encoded data removed]",
      "text/plain": [
       "<Figure size 1000x600 with 1 Axes>"
      ]
     },
     "metadata": {},
     "output_type": "display_data"
    }
   ],
   "source": [
    "import matplotlib.pyplot as plt\n",
    "import seaborn as sns\n",
    "\n",
    "plt.figure(figsize=(10, 6))\n",
    "sns.scatterplot(x=data['kilometer'], y=data['price'])\n",
    "plt.title('Scatter Plot of Price vs Kilometer')\n",
    "plt.xlabel('Kilometer')\n",
    "plt.ylabel('Price')\n",
    "plt.show()"
   ]
  },
  {
   "cell_type": "markdown",
   "id": "e787a6e1",
   "metadata": {
    "papermill": {
     "duration": 0.008766,
     "end_time": "2024-07-05T09:23:48.637486",
     "exception": false,
     "start_time": "2024-07-05T09:23:48.628720",
     "status": "completed"
    },
    "tags": []
   },
   "source": [
    "**Year of Registration**"
   ]
  },
  {
   "cell_type": "code",
   "execution_count": 12,
   "id": "f99dc489",
   "metadata": {
    "execution": {
     "iopub.execute_input": "2024-07-05T09:23:48.657571Z",
     "iopub.status.busy": "2024-07-05T09:23:48.657166Z",
     "iopub.status.idle": "2024-07-05T09:23:50.194702Z",
     "shell.execute_reply": "2024-07-05T09:23:50.193385Z"
    },
    "papermill": {
     "duration": 1.550483,
     "end_time": "2024-07-05T09:23:50.197173",
     "exception": false,
     "start_time": "2024-07-05T09:23:48.646690",
     "status": "completed"
    },
    "tags": []
   },
   "outputs": [
    {
     "data": {
      "image/png": "[encoded data removed]",
      "text/plain": [
       "<Figure size 1000x600 with 1 Axes>"
      ]
     },
     "metadata": {},
     "output_type": "display_data"
    }
   ],
   "source": [
    "# Plot the distribution of year of registration\n",
    "plt.figure(figsize=(10, 6))\n",
    "sns.histplot(data['yearOfRegistration'], bins=50, kde=True)\n",
    "plt.title('Distribution of Year of Registration')\n",
    "plt.xlabel('Year of Registration')\n",
    "plt.ylabel('Frequency')\n",
    "plt.show()\n"
   ]
  },
  {
   "cell_type": "markdown",
   "id": "f9de947c",
   "metadata": {
    "papermill": {
     "duration": 0.009101,
     "end_time": "2024-07-05T09:23:50.215800",
     "exception": false,
     "start_time": "2024-07-05T09:23:50.206699",
     "status": "completed"
    },
    "tags": []
   },
   "source": [
    "**Analysis of Vehicle Type**"
   ]
  },
  {
   "cell_type": "code",
   "execution_count": 13,
   "id": "9034451e",
   "metadata": {
    "execution": {
     "iopub.execute_input": "2024-07-05T09:23:50.236768Z",
     "iopub.status.busy": "2024-07-05T09:23:50.236367Z",
     "iopub.status.idle": "2024-07-05T09:23:50.602902Z",
     "shell.execute_reply": "2024-07-05T09:23:50.601753Z"
    },
    "papermill": {
     "duration": 0.380264,
     "end_time": "2024-07-05T09:23:50.605365",
     "exception": false,
     "start_time": "2024-07-05T09:23:50.225101",
     "status": "completed"
    },
    "tags": []
   },
   "outputs": [
    {
     "data": {
      "image/png": "[encoded data removed]",
      "text/plain": [
       "<Figure size 1000x600 with 1 Axes>"
      ]
     },
     "metadata": {},
     "output_type": "display_data"
    }
   ],
   "source": [
    "# Plot the distribution of vehicle types\n",
    "plt.figure(figsize=(10, 6))\n",
    "sns.countplot(y=data['vehicleType'], order=data['vehicleType'].value_counts().index)\n",
    "plt.title('Distribution of Vehicle Types')\n",
    "plt.xlabel('Count')\n",
    "plt.ylabel('Vehicle Type')\n",
    "plt.show()"
   ]
  },
  {
   "cell_type": "markdown",
   "id": "3f888ad6",
   "metadata": {
    "papermill": {
     "duration": 0.009902,
     "end_time": "2024-07-05T09:23:50.625615",
     "exception": false,
     "start_time": "2024-07-05T09:23:50.615713",
     "status": "completed"
    },
    "tags": []
   },
   "source": [
    "**Analysis of Fuel Type**"
   ]
  },
  {
   "cell_type": "code",
   "execution_count": 14,
   "id": "6243799d",
   "metadata": {
    "execution": {
     "iopub.execute_input": "2024-07-05T09:23:50.648401Z",
     "iopub.status.busy": "2024-07-05T09:23:50.647992Z",
     "iopub.status.idle": "2024-07-05T09:23:50.985794Z",
     "shell.execute_reply": "2024-07-05T09:23:50.984713Z"
    },
    "papermill": {
     "duration": 0.352485,
     "end_time": "2024-07-05T09:23:50.988329",
     "exception": false,
     "start_time": "2024-07-05T09:23:50.635844",
     "status": "completed"
    },
    "tags": []
   },
   "outputs": [
    {
     "data": {
      "image/png": "[encoded data removed]",
      "text/plain": [
       "<Figure size 1000x600 with 1 Axes>"
      ]
     },
     "metadata": {},
     "output_type": "display_data"
    }
   ],
   "source": [
    "# Plot the distribution of fuel types\n",
    "plt.figure(figsize=(10, 6))\n",
    "sns.countplot(y=data['fuelType'], order=data['fuelType'].value_counts().index)\n",
    "plt.title('Distribution of Fuel Types')\n",
    "plt.xlabel('Count')\n",
    "plt.ylabel('Fuel Type')\n",
    "plt.show()"
   ]
  },
  {
   "cell_type": "markdown",
   "id": "256d03e4",
   "metadata": {
    "papermill": {
     "duration": 0.011143,
     "end_time": "2024-07-05T09:23:51.074602",
     "exception": false,
     "start_time": "2024-07-05T09:23:51.063459",
     "status": "completed"
    },
    "tags": []
   },
   "source": [
    "**Analysis of Gearbox**"
   ]
  },
  {
   "cell_type": "code",
   "execution_count": 15,
   "id": "e167f12b",
   "metadata": {
    "execution": {
     "iopub.execute_input": "2024-07-05T09:23:51.099374Z",
     "iopub.status.busy": "2024-07-05T09:23:51.098944Z",
     "iopub.status.idle": "2024-07-05T09:23:51.420772Z",
     "shell.execute_reply": "2024-07-05T09:23:51.419639Z"
    },
    "papermill": {
     "duration": 0.337636,
     "end_time": "2024-07-05T09:23:51.423514",
     "exception": false,
     "start_time": "2024-07-05T09:23:51.085878",
     "status": "completed"
    },
    "tags": []
   },
   "outputs": [
    {
     "data": {
      "image/png": "[encoded data removed]",
      "text/plain": [
       "<Figure size 1000x600 with 1 Axes>"
      ]
     },
     "metadata": {},
     "output_type": "display_data"
    }
   ],
   "source": [
    "# Plot the distribution of gearbox types\n",
    "plt.figure(figsize=(10, 6))\n",
    "sns.countplot(y=data['gearbox'], order=data['gearbox'].value_counts().index)\n",
    "plt.title('Distribution of Gearbox Types')\n",
    "plt.xlabel('Count')\n",
    "plt.ylabel('Gearbox Type')\n",
    "plt.show()\n"
   ]
  },
  {
   "cell_type": "markdown",
   "id": "b7c0ec4a",
   "metadata": {
    "papermill": {
     "duration": 0.01066,
     "end_time": "2024-07-05T09:23:51.445351",
     "exception": false,
     "start_time": "2024-07-05T09:23:51.434691",
     "status": "completed"
    },
    "tags": []
   },
   "source": [
    "**Brand Analysis**"
   ]
  },
  {
   "cell_type": "code",
   "execution_count": 16,
   "id": "a60a3e0b",
   "metadata": {
    "execution": {
     "iopub.execute_input": "2024-07-05T09:23:51.469190Z",
     "iopub.status.busy": "2024-07-05T09:23:51.468729Z",
     "iopub.status.idle": "2024-07-05T09:23:52.148236Z",
     "shell.execute_reply": "2024-07-05T09:23:52.146972Z"
    },
    "papermill": {
     "duration": 0.694911,
     "end_time": "2024-07-05T09:23:52.151348",
     "exception": false,
     "start_time": "2024-07-05T09:23:51.456437",
     "status": "completed"
    },
    "tags": []
   },
   "outputs": [
    {
     "data": {
      "image/png": "[encoded data removed]",
      "text/plain": [
       "<Figure size 1000x600 with 1 Axes>"
      ]
     },
     "metadata": {},
     "output_type": "display_data"
    }
   ],
   "source": [
    "# Plot the distribution of car brands\n",
    "plt.figure(figsize=(10, 6))\n",
    "sns.countplot(y=data['brand'], order=data['brand'].value_counts().index)\n",
    "plt.title('Distribution of Car Brands')\n",
    "plt.xlabel('Count')\n",
    "plt.ylabel('Brand')\n",
    "plt.show()"
   ]
  },
  {
   "cell_type": "markdown",
   "id": "c1f3e606",
   "metadata": {
    "papermill": {
     "duration": 0.013772,
     "end_time": "2024-07-05T09:23:52.177957",
     "exception": false,
     "start_time": "2024-07-05T09:23:52.164185",
     "status": "completed"
    },
    "tags": []
   },
   "source": [
    "**Power Analysis**"
   ]
  },
  {
   "cell_type": "code",
   "execution_count": 17,
   "id": "58f7ef27",
   "metadata": {
    "execution": {
     "iopub.execute_input": "2024-07-05T09:23:52.204644Z",
     "iopub.status.busy": "2024-07-05T09:23:52.204253Z",
     "iopub.status.idle": "2024-07-05T09:23:53.686116Z",
     "shell.execute_reply": "2024-07-05T09:23:53.684905Z"
    },
    "papermill": {
     "duration": 1.498217,
     "end_time": "2024-07-05T09:23:53.688609",
     "exception": false,
     "start_time": "2024-07-05T09:23:52.190392",
     "status": "completed"
    },
    "tags": []
   },
   "outputs": [
    {
     "data": {
      "image/png": "[encoded data removed]",
      "text/plain": [
       "<Figure size 1000x600 with 1 Axes>"
      ]
     },
     "metadata": {},
     "output_type": "display_data"
    }
   ],
   "source": [
    "# Plot the distribution of powerPS\n",
    "plt.figure(figsize=(10, 6))\n",
    "sns.histplot(data['powerPS'], bins=50, kde=True)\n",
    "plt.title('Distribution of Car Power (PS)')\n",
    "plt.xlabel('Power (PS)')\n",
    "plt.ylabel('Frequency')\n",
    "plt.show()\n"
   ]
  },
  {
   "cell_type": "markdown",
   "id": "0178eae3",
   "metadata": {
    "papermill": {
     "duration": 0.012167,
     "end_time": "2024-07-05T09:23:53.713183",
     "exception": false,
     "start_time": "2024-07-05T09:23:53.701016",
     "status": "completed"
    },
    "tags": []
   },
   "source": [
    "# Summary"
   ]
  },
  {
   "cell_type": "markdown",
   "id": "decf056d",
   "metadata": {
    "papermill": {
     "duration": 0.012111,
     "end_time": "2024-07-05T09:23:53.737853",
     "exception": false,
     "start_time": "2024-07-05T09:23:53.725742",
     "status": "completed"
    },
    "tags": []
   },
   "source": [
    "1. Basic Information and Summary Statistics\n",
    "The dataset consists of 244,083 entries and 20 columns , with no missing values in any of the columns. Here are some summary statistics:"
   ]
  },
  {
   "cell_type": "code",
   "execution_count": 18,
   "id": "575f191e",
   "metadata": {
    "execution": {
     "iopub.execute_input": "2024-07-05T09:23:53.764495Z",
     "iopub.status.busy": "2024-07-05T09:23:53.764089Z",
     "iopub.status.idle": "2024-07-05T09:23:53.841183Z",
     "shell.execute_reply": "2024-07-05T09:23:53.839824Z"
    },
    "papermill": {
     "duration": 0.093164,
     "end_time": "2024-07-05T09:23:53.843608",
     "exception": false,
     "start_time": "2024-07-05T09:23:53.750444",
     "status": "completed"
    },
    "tags": []
   },
   "outputs": [
    {
     "name": "stdout",
     "output_type": "stream",
     "text": [
      "               index         price  yearOfRegistration        powerPS  \\\n",
      "count  244083.000000  2.440830e+05       244083.000000  244083.000000   \n",
      "mean   186120.214214  8.519281e+03         2003.562911     131.620248   \n",
      "std    107240.965365  3.540800e+05            6.414189     141.374305   \n",
      "min         1.000000  0.000000e+00         1910.000000       1.000000   \n",
      "25%     93173.500000  1.699000e+03         2000.000000      86.000000   \n",
      "50%    186382.000000  4.000000e+03         2004.000000     116.000000   \n",
      "75%    278974.500000  8.990000e+03         2008.000000     160.000000   \n",
      "max    371527.000000  1.000000e+08         2018.000000   20000.000000   \n",
      "\n",
      "           kilometer  monthOfRegistration     postalCode  \n",
      "count  244083.000000        244083.000000  244083.000000  \n",
      "mean   123466.300398             6.367498   52190.261772  \n",
      "std     39997.544784             3.350871   25803.667201  \n",
      "min      5000.000000             1.000000    1067.000000  \n",
      "25%    100000.000000             3.000000   31630.500000  \n",
      "50%    150000.000000             6.000000   51503.000000  \n",
      "75%    150000.000000             9.000000   73095.000000  \n",
      "max    150000.000000            12.000000   99998.000000  \n"
     ]
    }
   ],
   "source": [
    "print(data.describe())"
   ]
  },
  {
   "cell_type": "markdown",
   "id": "7b87628e",
   "metadata": {
    "papermill": {
     "duration": 0.012976,
     "end_time": "2024-07-05T09:23:53.869609",
     "exception": false,
     "start_time": "2024-07-05T09:23:53.856633",
     "status": "completed"
    },
    "tags": []
   },
   "source": [
    "2. Distribution of Prices\n",
    "The prices distribution of cars indicates that most car prices lie within a range of lower prices, while some are priced higher for the high-valued cars.\n",
    "\n",
    "3. Year of Registration Analysis\n",
    "The majority of cars are registered between 1990 and 2016, with a peak in the early 2000s.\n",
    "\n",
    "4. Vehicle Type Analysis\n",
    "Most common types of vehicles in the listing include limousine and hatchback, station wagons and convertibles.\n",
    "\n",
    "5. Fuel Type Analysis\n",
    "Petrol is the most common fuel type, followed by diesel. Other fuel types like LPG and CNG are much less common.\n",
    "\n",
    "6. Gearbox Analysis\n",
    "Manual gearboxes are significantly more common than automatic ones.\n",
    "\n",
    "7. Brand Analysis\n",
    "Volkswagen, BMW, and Opel are the most common car brands in the dataset.\n",
    "\n",
    "8. Power Analysis\n",
    "The distribution of car power (in PS) shows most cars having power below 200 PS."
   ]
  }
 ],
 "metadata": {
  "kaggle": {
   "accelerator": "none",
   "dataSources": [
    {
     "datasetId": 2709054,
     "sourceId": 4670687,
     "sourceType": "datasetVersion"
    },
    {
     "datasetId": 5173774,
     "sourceId": 8639273,
     "sourceType": "datasetVersion"
    }
   ],
   "dockerImageVersionId": 30635,
   "isGpuEnabled": false,
   "isInternetEnabled": false,
   "language": "python",
   "sourceType": "notebook"
  },
  "kernelspec": {
   "display_name": "Python 3",
   "language": "python",
   "name": "python3"
  },
  "language_info": {
   "codemirror_mode": {
    "name": "ipython",
    "version": 3
   },
   "file_extension": ".py",
   "mimetype": "text/x-python",
   "name": "python",
   "nbconvert_exporter": "python",
   "pygments_lexer": "ipython3",
   "version": "3.10.12"
  },
  "papermill": {
   "default_parameters": {},
   "duration": 20.213199,
   "end_time": "2024-07-05T09:23:54.605388",
   "environment_variables": {},
   "exception": null,
   "input_path": "__notebook__.ipynb",
   "output_path": "__notebook__.ipynb",
   "parameters": {},
   "start_time": "2024-07-05T09:23:34.392189",
   "version": "2.4.0"
  }
 },
 "nbformat": 4,
 "nbformat_minor": 5
}
